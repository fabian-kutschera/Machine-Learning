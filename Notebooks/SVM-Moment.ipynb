{
 "cells": [
  {
   "cell_type": "markdown",
   "metadata": {},
   "source": [
    "# Mechanism determination with SVM\n",
    "\n",
    "In this practical we will explore how to use a support vector machine to identify the type of focal mechanism of an earthquake from its moment tensor elements $\\textbf{m}$. Our training data are based on moment tensor solutions for world wide seismicity between 1976 and 2017 dowloaded from the global CMT catalogue *https://www.globalcmt.org/CMTsearch.html*. The classification into different focal mechanisms for training purposes is performed with FMC:\n",
    "\n",
    "Álvarez-Gómez, J.A. (2014) FMC: a one-liner Python program to man-\n",
    "age, classify and plot focal mechanisms. Geophysical Research Ab-\n",
    "stracts, Vol. 16, EGU2014-10887\n",
    "\n",
    "As usual we first have to import a variety of python packages."
   ]
  },
  {
   "cell_type": "code",
   "execution_count": 1,
   "metadata": {},
   "outputs": [],
   "source": [
    "import numpy as np\n",
    "import matplotlib.pyplot as plt\n",
    "import pandas as pd\n",
    "from sklearn.multiclass import OneVsRestClassifier\n",
    "from sklearn.compose import ColumnTransformer\n",
    "from sklearn.preprocessing import StandardScaler\n",
    "from sklearn.preprocessing import  OrdinalEncoder\n",
    "from sklearn.preprocessing import KBinsDiscretizer\n",
    "from sklearn.pipeline import Pipeline\n",
    "from sklearn import svm\n",
    "from sklearn.metrics import confusion_matrix"
   ]
  },
  {
   "cell_type": "markdown",
   "metadata": {},
   "source": [
    "We then read in the data into a Pandas dataframe (https://pandas.pydata.org/docs/)"
   ]
  },
  {
   "cell_type": "code",
   "execution_count": 2,
   "metadata": {},
   "outputs": [],
   "source": [
    "pdata = pd.read_csv('../Data/Momenttrain.out',sep=' ',header=0)"
   ]
  },
  {
   "cell_type": "markdown",
   "metadata": {},
   "source": [
    "## Tasks\n",
    "Have a look at the data. \n",
    "- What is in the dataset? Identify the different columns and relate them to the quantities in the lecture.\n",
    "    - M is symmetric, therefore we only need 6 elements instead of 9\n",
    "    - mrr = 1; mtt and mff\n",
    "- Which quantities will be useful for the task?\n",
    "    - Mechanism type"
   ]
  },
  {
   "cell_type": "code",
   "execution_count": 3,
   "metadata": {},
   "outputs": [
    {
     "data": {
      "text/html": [
       "<div>\n",
       "<style scoped>\n",
       "    .dataframe tbody tr th:only-of-type {\n",
       "        vertical-align: middle;\n",
       "    }\n",
       "\n",
       "    .dataframe tbody tr th {\n",
       "        vertical-align: top;\n",
       "    }\n",
       "\n",
       "    .dataframe thead th {\n",
       "        text-align: right;\n",
       "    }\n",
       "</style>\n",
       "<table border=\"1\" class=\"dataframe\">\n",
       "  <thead>\n",
       "    <tr style=\"text-align: right;\">\n",
       "      <th></th>\n",
       "      <th>#Lon</th>\n",
       "      <th>Lat</th>\n",
       "      <th>Depth</th>\n",
       "      <th>mrr</th>\n",
       "      <th>mtt</th>\n",
       "      <th>mff</th>\n",
       "      <th>mrt</th>\n",
       "      <th>mrf</th>\n",
       "      <th>mtf</th>\n",
       "      <th>Exponent_(dyn-cm)</th>\n",
       "      <th>X_position</th>\n",
       "      <th>Y_position</th>\n",
       "      <th>ID</th>\n",
       "      <th>Mechanism_type</th>\n",
       "    </tr>\n",
       "  </thead>\n",
       "  <tbody>\n",
       "    <tr>\n",
       "      <th>0</th>\n",
       "      <td>183.04</td>\n",
       "      <td>-29.25</td>\n",
       "      <td>47.8</td>\n",
       "      <td>7.68</td>\n",
       "      <td>0.09</td>\n",
       "      <td>-7.77</td>\n",
       "      <td>1.39</td>\n",
       "      <td>4.52</td>\n",
       "      <td>-3.26</td>\n",
       "      <td>26</td>\n",
       "      <td>183.04</td>\n",
       "      <td>-29.25</td>\n",
       "      <td>M010176A</td>\n",
       "      <td>R</td>\n",
       "    </tr>\n",
       "    <tr>\n",
       "      <th>1</th>\n",
       "      <td>284.86</td>\n",
       "      <td>-13.42</td>\n",
       "      <td>85.4</td>\n",
       "      <td>-1.78</td>\n",
       "      <td>-0.59</td>\n",
       "      <td>2.37</td>\n",
       "      <td>-1.28</td>\n",
       "      <td>1.97</td>\n",
       "      <td>-2.90</td>\n",
       "      <td>24</td>\n",
       "      <td>284.86</td>\n",
       "      <td>-13.42</td>\n",
       "      <td>C010576A</td>\n",
       "      <td>N</td>\n",
       "    </tr>\n",
       "    <tr>\n",
       "      <th>2</th>\n",
       "      <td>159.50</td>\n",
       "      <td>51.45</td>\n",
       "      <td>15.0</td>\n",
       "      <td>1.10</td>\n",
       "      <td>-0.30</td>\n",
       "      <td>-0.80</td>\n",
       "      <td>1.05</td>\n",
       "      <td>1.24</td>\n",
       "      <td>-0.56</td>\n",
       "      <td>25</td>\n",
       "      <td>159.50</td>\n",
       "      <td>51.45</td>\n",
       "      <td>C010676A</td>\n",
       "      <td>R</td>\n",
       "    </tr>\n",
       "    <tr>\n",
       "      <th>3</th>\n",
       "      <td>167.81</td>\n",
       "      <td>-15.97</td>\n",
       "      <td>173.7</td>\n",
       "      <td>-1.70</td>\n",
       "      <td>2.29</td>\n",
       "      <td>-0.59</td>\n",
       "      <td>-2.33</td>\n",
       "      <td>-1.23</td>\n",
       "      <td>2.01</td>\n",
       "      <td>25</td>\n",
       "      <td>167.81</td>\n",
       "      <td>-15.97</td>\n",
       "      <td>C010976A</td>\n",
       "      <td>N</td>\n",
       "    </tr>\n",
       "    <tr>\n",
       "      <th>4</th>\n",
       "      <td>343.71</td>\n",
       "      <td>66.33</td>\n",
       "      <td>15.0</td>\n",
       "      <td>-0.51</td>\n",
       "      <td>-2.86</td>\n",
       "      <td>3.37</td>\n",
       "      <td>0.05</td>\n",
       "      <td>-0.78</td>\n",
       "      <td>-0.86</td>\n",
       "      <td>25</td>\n",
       "      <td>343.71</td>\n",
       "      <td>66.33</td>\n",
       "      <td>C011376A</td>\n",
       "      <td>SS</td>\n",
       "    </tr>\n",
       "  </tbody>\n",
       "</table>\n",
       "</div>"
      ],
      "text/plain": [
       "     #Lon    Lat  Depth   mrr   mtt   mff   mrt   mrf   mtf  \\\n",
       "0  183.04 -29.25   47.8  7.68  0.09 -7.77  1.39  4.52 -3.26   \n",
       "1  284.86 -13.42   85.4 -1.78 -0.59  2.37 -1.28  1.97 -2.90   \n",
       "2  159.50  51.45   15.0  1.10 -0.30 -0.80  1.05  1.24 -0.56   \n",
       "3  167.81 -15.97  173.7 -1.70  2.29 -0.59 -2.33 -1.23  2.01   \n",
       "4  343.71  66.33   15.0 -0.51 -2.86  3.37  0.05 -0.78 -0.86   \n",
       "\n",
       "   Exponent_(dyn-cm)  X_position  Y_position        ID Mechanism_type  \n",
       "0                 26      183.04      -29.25  M010176A              R  \n",
       "1                 24      284.86      -13.42  C010576A              N  \n",
       "2                 25      159.50       51.45  C010676A              R  \n",
       "3                 25      167.81      -15.97  C010976A              N  \n",
       "4                 25      343.71       66.33  C011376A             SS  "
      ]
     },
     "execution_count": 3,
     "metadata": {},
     "output_type": "execute_result"
    }
   ],
   "source": [
    "pdata.head()"
   ]
  },
  {
   "cell_type": "code",
   "execution_count": 4,
   "metadata": {},
   "outputs": [
    {
     "name": "stdout",
     "output_type": "stream",
     "text": [
      "        #Lon    Lat  Depth     mrr     mtt     mff     mrt     mrf     mtf  \\\n",
      "0     183.04 -29.25   47.8  7.6800  0.0900 -7.7700  1.3900  4.5200 -3.2600   \n",
      "1     284.86 -13.42   85.4 -1.7800 -0.5900  2.3700 -1.2800  1.9700 -2.9000   \n",
      "2     159.50  51.45   15.0  1.1000 -0.3000 -0.8000  1.0500  1.2400 -0.5600   \n",
      "3     167.81 -15.97  173.7 -1.7000  2.2900 -0.5900 -2.3300 -1.2300  2.0100   \n",
      "4     343.71  66.33   15.0 -0.5100 -2.8600  3.3700  0.0500 -0.7800 -0.8600   \n",
      "...      ...    ...    ...     ...     ...     ...     ...     ...     ...   \n",
      "9994  171.72  53.03   35.3  2.8900 -3.7740  0.8840  4.8600  3.1130 -1.0130   \n",
      "9995  341.89 -42.55   15.0 -2.0660  5.7510 -3.6840  0.6410 -0.9190  1.4050   \n",
      "9996  117.71  -7.66  279.7  3.2510 -2.8250 -0.4260  1.2500  0.1790  0.1130   \n",
      "9997  235.52 -55.48   15.0 -0.0454  0.7543 -0.7089  0.0429  0.1232  0.9201   \n",
      "9998  126.96   3.22   19.0  2.0270 -0.3480 -1.6790 -2.3630  9.3560 -0.2430   \n",
      "\n",
      "      Exponent_(dyn-cm)  X_position  Y_position        ID Mechanism_type  \n",
      "0                    26      183.04      -29.25  M010176A              R  \n",
      "1                    24      284.86      -13.42  C010576A              N  \n",
      "2                    25      159.50       51.45  C010676A              R  \n",
      "3                    25      167.81      -15.97  C010976A              N  \n",
      "4                    25      343.71       66.33  C011376A             SS  \n",
      "...                 ...         ...         ...       ...            ...  \n",
      "9994                 23      171.72       53.03  B032192C              R  \n",
      "9995                 24      341.89      -42.55  B032292C           SS-N  \n",
      "9996                 24      117.71       -7.66  B032492A              R  \n",
      "9997                 25      235.52      -55.48  B032492C             SS  \n",
      "9998                 24      126.96        3.22  B032492E              R  \n",
      "\n",
      "[9999 rows x 14 columns]\n"
     ]
    }
   ],
   "source": [
    "print(pdata)"
   ]
  },
  {
   "cell_type": "markdown",
   "metadata": {},
   "source": [
    "We build a pipeline to prepare the data for the SVM. \n",
    "\n",
    "## Questions:\n",
    "* What does this pipeline do?\n",
    "    - Pipeline = description of certain processing steps\n",
    " \n",
    "* What are the advantages of doing it this way?\n",
    "    - standard machine learning"
   ]
  },
  {
   "cell_type": "code",
   "execution_count": 5,
   "metadata": {},
   "outputs": [
    {
     "data": {
      "text/plain": [
       "#Lon                 float64\n",
       "Lat                  float64\n",
       "Depth                float64\n",
       "mrr                  float64\n",
       "mtt                  float64\n",
       "mff                  float64\n",
       "mrt                  float64\n",
       "mrf                  float64\n",
       "mtf                  float64\n",
       "Exponent_(dyn-cm)      int64\n",
       "X_position           float64\n",
       "Y_position           float64\n",
       "ID                    object\n",
       "Mechanism_type        object\n",
       "dtype: object"
      ]
     },
     "execution_count": 5,
     "metadata": {},
     "output_type": "execute_result"
    }
   ],
   "source": [
    "pdata.dtypes"
   ]
  },
  {
   "cell_type": "code",
   "execution_count": 6,
   "metadata": {},
   "outputs": [
    {
     "name": "stdout",
     "output_type": "stream",
     "text": [
      "['#Lon', 'Lat', 'Depth', 'mrr', 'mtt', 'mff', 'mrt', 'mrf', 'mtf', 'Exponent_(dyn-cm)', 'X_position', 'Y_position']\n"
     ]
    }
   ],
   "source": [
    "num_attribs = list(pdata.select_dtypes(include=['float64','int64'])) # select all field which are either in floating point or integer\n",
    "cat_attribs = [\"Mechanism_type\"] # category attribute\n",
    "\n",
    "mech_pipeline = Pipeline([(\"ord\", OrdinalEncoder()),(\"bins\",KBinsDiscretizer(n_bins=3,\n",
    "                                    strategy='uniform',encode='ordinal'))])\n",
    "# applied one after another\n",
    "# OrdinalEncoder() assigns integers to mechanism type\n",
    "# KBinsDiscretizer() assigns SS, R, N\n",
    "\n",
    "pipeline = ColumnTransformer([(\"num\",StandardScaler(),num_attribs),(\"cat\",mech_pipeline,cat_attribs)]) # sequence of functions/ processing steps\n",
    "# apply standard scalar to all numerical attributes and apply mechanism to category attributes\n",
    "# StandardScaler() is built-in scikit \n",
    "\n",
    "prepped = pipeline.fit_transform(pdata)\n",
    "print (num_attribs)"
   ]
  },
  {
   "cell_type": "code",
   "execution_count": 7,
   "metadata": {},
   "outputs": [],
   "source": [
    "KBinsDiscretizer?"
   ]
  },
  {
   "cell_type": "markdown",
   "metadata": {},
   "source": [
    "Once everything has been prepared, the rest is relatively easy.\n",
    "- Which quantities are we using as input?\n",
    "    - moment tensor\n",
    "- What do the target labels look like? \n",
    "    - type\n",
    "- Which data in the pandas frame are they derived from?"
   ]
  },
  {
   "cell_type": "code",
   "execution_count": null,
   "metadata": {},
   "outputs": [],
   "source": [
    "ina = np.transpose([prepped[:,3],prepped[:,4]]) # 2 moment tensor elements\n",
    "outa = prepped[:,12] # type\n",
    "svmovr = OneVsRestClassifier(svm.SVC(kernel='linear',C=100))\n",
    "#svmovr = OneVsRestClassifier(svm.SVC(kernel='linear',C=1))\n",
    "svmovr.fit(ina, outa)"
   ]
  },
  {
   "cell_type": "markdown",
   "metadata": {},
   "source": [
    "Plot the training data for the different categories. Plot the regions how the SVM categorizes them."
   ]
  },
  {
   "cell_type": "code",
   "execution_count": null,
   "metadata": {},
   "outputs": [],
   "source": [
    "f = plt.figure()\n",
    "ax = f.gca() \n",
    "cm = plt.cm.get_cmap('jet', 3)\n",
    "ind = (outa==0)\n",
    "sc=ax.scatter(ina[ind, 0], ina[ind, 1], c='blue', s=10, cmap=cm,\n",
    "                zorder=3, label='Normal')\n",
    "ind = (outa==1)\n",
    "sc=ax.scatter(ina[ind, 0], ina[ind, 1], c='green', s=10, cmap=cm,\n",
    "                zorder=3, label='Reverse')\n",
    "ind = (outa==2)\n",
    "sc=ax.scatter(ina[ind, 0], ina[ind, 1], c='yellow', s=10, cmap=cm,\n",
    "              zorder=3, label='Strike-Slip')\n",
    "plt.legend()\n",
    "ax.axis('tight')\n",
    "xlim = ax.get_xlim()\n",
    "ylim = ax.get_ylim()\n",
    "ax.set_xlabel(r'$M_{11}$')\n",
    "ax.set_ylabel(r'$M_{22}$')\n",
    "n_classes = len(np.unique(outa))\n",
    "\n",
    "xx, yy = np.meshgrid(np.linspace(*xlim, num=200),\n",
    "                         np.linspace(*ylim, num=200))\n",
    "Z = svmovr.predict(np.c_[xx.ravel(), yy.ravel()]).reshape(xx.shape)\n",
    "from matplotlib.colors import ListedColormap\n",
    "custom_cmap = ListedColormap(['blue', 'green','yellow'])\n",
    "contours = ax.contourf(xx, yy, Z,\n",
    "                         levels=np.arange(n_classes + 1) - 0.5, alpha=0.3,\n",
    "                          cmap=custom_cmap,\n",
    "                          zorder=1)\n",
    "ax.set(xlim=xlim, ylim=ylim)\n",
    "ax.set_xlabel(r'$M_{11}$')\n",
    "ax.set_ylabel(r'$M_{22}$')\n",
    "plt.show()"
   ]
  },
  {
   "cell_type": "markdown",
   "metadata": {},
   "source": [
    "Background colour is prediction made by SVM.\n",
    "\n",
    "Yellow: 2 straight lines very close to each other. May be adjusted using a different C"
   ]
  },
  {
   "cell_type": "markdown",
   "metadata": {},
   "source": [
    "Read in the validation data. \n",
    "\n",
    "## Questions\n",
    "- What is the difference to the training data reading procedure?\n",
    "- Why do we do it differently?"
   ]
  },
  {
   "cell_type": "code",
   "execution_count": 34,
   "metadata": {},
   "outputs": [],
   "source": [
    "maydata = pd.read_csv('../Data/may20.out',sep=' ',header=0)\n",
    "mayprep = pipeline.transform(maydata)\n",
    "fore = np.transpose([mayprep[:,3],mayprep[:,4]])"
   ]
  },
  {
   "cell_type": "markdown",
   "metadata": {},
   "source": [
    "Calculate the prediction and plot the results."
   ]
  },
  {
   "cell_type": "code",
   "execution_count": 35,
   "metadata": {},
   "outputs": [
    {
     "data": {
      "image/png": "[encoded data removed]",
      "text/plain": [
       "<Figure size 432x288 with 1 Axes>"
      ]
     },
     "metadata": {
      "needs_background": "light"
     },
     "output_type": "display_data"
    }
   ],
   "source": [
    "p = svmovr.predict(fore)\n",
    "plabels = mayprep[:,12]\n",
    "f = plt.figure()\n",
    "ax = f.gca() \n",
    "ax.scatter(mayprep[:,3],mayprep[:,4], c=p, s=10, cmap=custom_cmap,\n",
    "                zorder=3)\n",
    "contours = ax.contourf(xx, yy, Z,\n",
    "                           levels=np.arange(n_classes + 1) - 0.5, alpha=0.3,\n",
    "                           cmap=custom_cmap, \n",
    "                           zorder=1)"
   ]
  },
  {
   "cell_type": "markdown",
   "metadata": {},
   "source": [
    "Calculate the confusion matrix and print."
   ]
  },
  {
   "cell_type": "code",
   "execution_count": 26,
   "metadata": {},
   "outputs": [
    {
     "name": "stdout",
     "output_type": "stream",
     "text": [
      "[[57  0  1]\n",
      " [ 1 68  0]\n",
      " [31 27 11]]\n"
     ]
    },
    {
     "data": {
      "text/plain": [
       "0.9827586206896551"
      ]
     },
     "execution_count": 26,
     "metadata": {},
     "output_type": "execute_result"
    }
   ],
   "source": [
    "c=confusion_matrix(plabels, p)\n",
    "print(c)\n",
    "57/(57+1+31)\n",
    "57/58"
   ]
  },
  {
   "cell_type": "markdown",
   "metadata": {},
   "source": [
    "diagonal elements: truely predicted\n",
    "off-diagonal: False\n",
    "categroy 3: some wrong predictions\n",
    "\n",
    "\n",
    "cat1: one is actually catt 1 but has been categorized as cat 3\n",
    "\n",
    "caat 3: 11 correct --> small regiojn, miss-categorized"
   ]
  },
  {
   "cell_type": "markdown",
   "metadata": {},
   "source": [
    "## Tasks\n",
    "Once you have achieved the best results on the validation data.\n",
    "- Read in the dataset jun20.out \n",
    "- Check your prediction on this new dataset\n",
    "- Calculate the precision and recall for each category"
   ]
  },
  {
   "cell_type": "code",
   "execution_count": null,
   "metadata": {},
   "outputs": [],
   "source": []
  }
 ],
 "metadata": {
  "kernelspec": {
   "display_name": "Python 3 (ipykernel)",
   "language": "python",
   "name": "python3"
  },
  "language_info": {
   "codemirror_mode": {
    "name": "ipython",
    "version": 3
   },
   "file_extension": ".py",
   "mimetype": "text/x-python",
   "name": "python",
   "nbconvert_exporter": "python",
   "pygments_lexer": "ipython3",
   "version": "3.7.10"
  }
 },
 "nbformat": 4,
 "nbformat_minor": 4
}
